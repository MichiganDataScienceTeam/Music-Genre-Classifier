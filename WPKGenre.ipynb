{
  "nbformat": 4,
  "nbformat_minor": 0,
  "metadata": {
    "colab": {
      "name": "WPKGenre.ipynb",
      "provenance": [],
      "collapsed_sections": []
    },
    "kernelspec": {
      "name": "python3",
      "display_name": "Python 3"
    },
    "language_info": {
      "name": "python"
    },
    "accelerator": "GPU"
  },
  "cells": [
    {
      "cell_type": "code",
      "execution_count": 1,
      "metadata": {
        "colab": {
          "base_uri": "https://localhost:8080/"
        },
        "id": "SSD4Usz6IhC6",
        "outputId": "be6a823b-54a8-4e77-aed4-d448bdd09414"
      },
      "outputs": [
        {
          "output_type": "stream",
          "name": "stdout",
          "text": [
            "[nltk_data] Downloading package stopwords to /root/nltk_data...\n",
            "[nltk_data]   Package stopwords is already up-to-date!\n",
            "[nltk_data] Downloading package wordnet to /root/nltk_data...\n",
            "[nltk_data]   Package wordnet is already up-to-date!\n"
          ]
        },
        {
          "output_type": "execute_result",
          "data": {
            "text/plain": [
              "True"
            ]
          },
          "metadata": {},
          "execution_count": 1
        }
      ],
      "source": [
        "import pandas as pd\n",
        "import nltk\n",
        "import re\n",
        "from nltk.corpus import stopwords\n",
        "nltk.download('stopwords')\n",
        "nltk.download('wordnet')"
      ]
    },
    {
      "cell_type": "code",
      "source": [
        "df = pd.read_csv(\"lyricsclean.csv\")\n",
        "df = df.dropna()\n",
        "df.drop(['Unnamed: 0'], inplace = True, axis = 1)"
      ],
      "metadata": {
        "id": "bBQhcJIVLzI0"
      },
      "execution_count": 2,
      "outputs": []
    },
    {
      "cell_type": "code",
      "source": [
        "df['Lyric'] = df['Lyric'].str.lower()\n",
        "df.head()"
      ],
      "metadata": {
        "colab": {
          "base_uri": "https://localhost:8080/",
          "height": 206
        },
        "id": "8gxQrndPMe2V",
        "outputId": "5020f677-7193-4e6d-b471-45b8d01d15b1"
      },
      "execution_count": 3,
      "outputs": [
        {
          "output_type": "execute_result",
          "data": {
            "text/html": [
              "<div>\n",
              "<style scoped>\n",
              "    .dataframe tbody tr th:only-of-type {\n",
              "        vertical-align: middle;\n",
              "    }\n",
              "\n",
              "    .dataframe tbody tr th {\n",
              "        vertical-align: top;\n",
              "    }\n",
              "\n",
              "    .dataframe thead th {\n",
              "        text-align: right;\n",
              "    }\n",
              "</style>\n",
              "<table border=\"1\" class=\"dataframe\">\n",
              "  <thead>\n",
              "    <tr style=\"text-align: right;\">\n",
              "      <th></th>\n",
              "      <th>Artist</th>\n",
              "      <th>Genre</th>\n",
              "      <th>Lyric</th>\n",
              "    </tr>\n",
              "  </thead>\n",
              "  <tbody>\n",
              "    <tr>\n",
              "      <th>0</th>\n",
              "      <td>10000 Maniacs</td>\n",
              "      <td>Rock</td>\n",
              "      <td>i could feel at the time. there was no way of ...</td>\n",
              "    </tr>\n",
              "    <tr>\n",
              "      <th>1</th>\n",
              "      <td>10000 Maniacs</td>\n",
              "      <td>Rock</td>\n",
              "      <td>[ music: dennis drew/lyric: natalie merchant ]...</td>\n",
              "    </tr>\n",
              "    <tr>\n",
              "      <th>2</th>\n",
              "      <td>10000 Maniacs</td>\n",
              "      <td>Rock</td>\n",
              "      <td>for whom do the bells toll. when sentenced to ...</td>\n",
              "    </tr>\n",
              "    <tr>\n",
              "      <th>3</th>\n",
              "      <td>10000 Maniacs</td>\n",
              "      <td>Rock</td>\n",
              "      <td>jenny. jenny you don't know the nights i hide....</td>\n",
              "    </tr>\n",
              "    <tr>\n",
              "      <th>4</th>\n",
              "      <td>10000 Maniacs</td>\n",
              "      <td>Rock</td>\n",
              "      <td>\"the legs of maddox kitchen tables. my whole l...</td>\n",
              "    </tr>\n",
              "  </tbody>\n",
              "</table>\n",
              "</div>"
            ],
            "text/plain": [
              "          Artist Genre                                              Lyric\n",
              "0  10000 Maniacs  Rock  i could feel at the time. there was no way of ...\n",
              "1  10000 Maniacs  Rock  [ music: dennis drew/lyric: natalie merchant ]...\n",
              "2  10000 Maniacs  Rock  for whom do the bells toll. when sentenced to ...\n",
              "3  10000 Maniacs  Rock  jenny. jenny you don't know the nights i hide....\n",
              "4  10000 Maniacs  Rock  \"the legs of maddox kitchen tables. my whole l..."
            ]
          },
          "metadata": {},
          "execution_count": 3
        }
      ]
    },
    {
      "cell_type": "code",
      "source": [
        "stop = stopwords.words('english')\n",
        "df['Lyric'] = df['Lyric'].apply(lambda x: ' '.join([word for word in x.split() if word not in (stop)]))"
      ],
      "metadata": {
        "id": "yrzCY2SjMw0i"
      },
      "execution_count": 4,
      "outputs": []
    },
    {
      "cell_type": "code",
      "source": [
        "df.head()"
      ],
      "metadata": {
        "colab": {
          "base_uri": "https://localhost:8080/",
          "height": 206
        },
        "id": "RA7MYICmN3Ir",
        "outputId": "f42fb68f-d995-4991-e5f2-40a5057ccc5d"
      },
      "execution_count": 5,
      "outputs": [
        {
          "output_type": "execute_result",
          "data": {
            "text/html": [
              "<div>\n",
              "<style scoped>\n",
              "    .dataframe tbody tr th:only-of-type {\n",
              "        vertical-align: middle;\n",
              "    }\n",
              "\n",
              "    .dataframe tbody tr th {\n",
              "        vertical-align: top;\n",
              "    }\n",
              "\n",
              "    .dataframe thead th {\n",
              "        text-align: right;\n",
              "    }\n",
              "</style>\n",
              "<table border=\"1\" class=\"dataframe\">\n",
              "  <thead>\n",
              "    <tr style=\"text-align: right;\">\n",
              "      <th></th>\n",
              "      <th>Artist</th>\n",
              "      <th>Genre</th>\n",
              "      <th>Lyric</th>\n",
              "    </tr>\n",
              "  </thead>\n",
              "  <tbody>\n",
              "    <tr>\n",
              "      <th>0</th>\n",
              "      <td>10000 Maniacs</td>\n",
              "      <td>Rock</td>\n",
              "      <td>could feel time. way knowing. fallen leaves ni...</td>\n",
              "    </tr>\n",
              "    <tr>\n",
              "      <th>1</th>\n",
              "      <td>10000 Maniacs</td>\n",
              "      <td>Rock</td>\n",
              "      <td>[ music: dennis drew/lyric: natalie merchant ]...</td>\n",
              "    </tr>\n",
              "    <tr>\n",
              "      <th>2</th>\n",
              "      <td>10000 Maniacs</td>\n",
              "      <td>Rock</td>\n",
              "      <td>bells toll. sentenced die. stuttering rifles. ...</td>\n",
              "    </tr>\n",
              "    <tr>\n",
              "      <th>3</th>\n",
              "      <td>10000 Maniacs</td>\n",
              "      <td>Rock</td>\n",
              "      <td>jenny. jenny know nights hide. second story ro...</td>\n",
              "    </tr>\n",
              "    <tr>\n",
              "      <th>4</th>\n",
              "      <td>10000 Maniacs</td>\n",
              "      <td>Rock</td>\n",
              "      <td>\"the legs maddox kitchen tables. whole life tw...</td>\n",
              "    </tr>\n",
              "  </tbody>\n",
              "</table>\n",
              "</div>"
            ],
            "text/plain": [
              "          Artist Genre                                              Lyric\n",
              "0  10000 Maniacs  Rock  could feel time. way knowing. fallen leaves ni...\n",
              "1  10000 Maniacs  Rock  [ music: dennis drew/lyric: natalie merchant ]...\n",
              "2  10000 Maniacs  Rock  bells toll. sentenced die. stuttering rifles. ...\n",
              "3  10000 Maniacs  Rock  jenny. jenny know nights hide. second story ro...\n",
              "4  10000 Maniacs  Rock  \"the legs maddox kitchen tables. whole life tw..."
            ]
          },
          "metadata": {},
          "execution_count": 5
        }
      ]
    },
    {
      "cell_type": "code",
      "source": [
        "for index, row in df.iterrows():\n",
        "    if ']' in row['Lyric']:\n",
        "        index2 = row['Lyric'].index(']')\n",
        "        r = row['Lyric'][index2+1:]\n",
        "        row['Lyric'] = r\n",
        "    #print(row['Lyric'])\n",
        "df[\"Lyric\"] = df['Lyric'].str.replace('[^\\w\\s].',' ')"
      ],
      "metadata": {
        "colab": {
          "base_uri": "https://localhost:8080/"
        },
        "id": "04qQbjOFObLm",
        "outputId": "0ae14226-2af9-43dc-c7c8-b72ea709889b"
      },
      "execution_count": 6,
      "outputs": [
        {
          "output_type": "stream",
          "name": "stderr",
          "text": [
            "/usr/local/lib/python3.7/dist-packages/ipykernel_launcher.py:7: FutureWarning: The default value of regex will change from True to False in a future version.\n",
            "  import sys\n"
          ]
        }
      ]
    },
    {
      "cell_type": "code",
      "source": [
        "df.head()"
      ],
      "metadata": {
        "colab": {
          "base_uri": "https://localhost:8080/",
          "height": 206
        },
        "id": "w5eHgapnOqLl",
        "outputId": "26d97626-0a40-49a6-b0bc-cc13090dba9d"
      },
      "execution_count": 7,
      "outputs": [
        {
          "output_type": "execute_result",
          "data": {
            "text/html": [
              "<div>\n",
              "<style scoped>\n",
              "    .dataframe tbody tr th:only-of-type {\n",
              "        vertical-align: middle;\n",
              "    }\n",
              "\n",
              "    .dataframe tbody tr th {\n",
              "        vertical-align: top;\n",
              "    }\n",
              "\n",
              "    .dataframe thead th {\n",
              "        text-align: right;\n",
              "    }\n",
              "</style>\n",
              "<table border=\"1\" class=\"dataframe\">\n",
              "  <thead>\n",
              "    <tr style=\"text-align: right;\">\n",
              "      <th></th>\n",
              "      <th>Artist</th>\n",
              "      <th>Genre</th>\n",
              "      <th>Lyric</th>\n",
              "    </tr>\n",
              "  </thead>\n",
              "  <tbody>\n",
              "    <tr>\n",
              "      <th>0</th>\n",
              "      <td>10000 Maniacs</td>\n",
              "      <td>Rock</td>\n",
              "      <td>could feel time way knowing fallen leaves nigh...</td>\n",
              "    </tr>\n",
              "    <tr>\n",
              "      <th>1</th>\n",
              "      <td>10000 Maniacs</td>\n",
              "      <td>Rock</td>\n",
              "      <td>science truth life watch religion fall obsol...</td>\n",
              "    </tr>\n",
              "    <tr>\n",
              "      <th>2</th>\n",
              "      <td>10000 Maniacs</td>\n",
              "      <td>Rock</td>\n",
              "      <td>bells toll sentenced die stuttering rifles sti...</td>\n",
              "    </tr>\n",
              "    <tr>\n",
              "      <th>3</th>\n",
              "      <td>10000 Maniacs</td>\n",
              "      <td>Rock</td>\n",
              "      <td>jenny jenny know nights hide second story room...</td>\n",
              "    </tr>\n",
              "    <tr>\n",
              "      <th>4</th>\n",
              "      <td>10000 Maniacs</td>\n",
              "      <td>Rock</td>\n",
              "      <td>he legs maddox kitchen tables whole life twis...</td>\n",
              "    </tr>\n",
              "  </tbody>\n",
              "</table>\n",
              "</div>"
            ],
            "text/plain": [
              "          Artist Genre                                              Lyric\n",
              "0  10000 Maniacs  Rock  could feel time way knowing fallen leaves nigh...\n",
              "1  10000 Maniacs  Rock    science truth life watch religion fall obsol...\n",
              "2  10000 Maniacs  Rock  bells toll sentenced die stuttering rifles sti...\n",
              "3  10000 Maniacs  Rock  jenny jenny know nights hide second story room...\n",
              "4  10000 Maniacs  Rock   he legs maddox kitchen tables whole life twis..."
            ]
          },
          "metadata": {},
          "execution_count": 7
        }
      ]
    },
    {
      "cell_type": "code",
      "source": [
        "w_tokenizer = nltk.tokenize.WhitespaceTokenizer()\n",
        "lemmatizer = nltk.stem.WordNetLemmatizer()\n",
        "\n",
        "def lemmatize_text(Lyric):\n",
        "    return [lemmatizer.lemmatize(w) for w in w_tokenizer.tokenize(Lyric)]\n",
        "\n",
        "df = pd.DataFrame(['this was cheesy', 'she likes these books', 'wow this is great'], columns=['Lyric'])\n",
        "df['Lyric'] = df.Lyric.apply(lemmatize_text)"
      ],
      "metadata": {
        "id": "PmaYtrw-Pe7V"
      },
      "execution_count": 8,
      "outputs": []
    },
    {
      "cell_type": "code",
      "source": [
        "df.head()"
      ],
      "metadata": {
        "colab": {
          "base_uri": "https://localhost:8080/",
          "height": 143
        },
        "id": "rPx6Xr-8P2tk",
        "outputId": "82fd1bf7-9e86-40aa-a758-8651ca6cabeb"
      },
      "execution_count": 9,
      "outputs": [
        {
          "output_type": "execute_result",
          "data": {
            "text/html": [
              "<div>\n",
              "<style scoped>\n",
              "    .dataframe tbody tr th:only-of-type {\n",
              "        vertical-align: middle;\n",
              "    }\n",
              "\n",
              "    .dataframe tbody tr th {\n",
              "        vertical-align: top;\n",
              "    }\n",
              "\n",
              "    .dataframe thead th {\n",
              "        text-align: right;\n",
              "    }\n",
              "</style>\n",
              "<table border=\"1\" class=\"dataframe\">\n",
              "  <thead>\n",
              "    <tr style=\"text-align: right;\">\n",
              "      <th></th>\n",
              "      <th>Lyric</th>\n",
              "    </tr>\n",
              "  </thead>\n",
              "  <tbody>\n",
              "    <tr>\n",
              "      <th>0</th>\n",
              "      <td>[this, wa, cheesy]</td>\n",
              "    </tr>\n",
              "    <tr>\n",
              "      <th>1</th>\n",
              "      <td>[she, like, these, book]</td>\n",
              "    </tr>\n",
              "    <tr>\n",
              "      <th>2</th>\n",
              "      <td>[wow, this, is, great]</td>\n",
              "    </tr>\n",
              "  </tbody>\n",
              "</table>\n",
              "</div>"
            ],
            "text/plain": [
              "                      Lyric\n",
              "0        [this, wa, cheesy]\n",
              "1  [she, like, these, book]\n",
              "2    [wow, this, is, great]"
            ]
          },
          "metadata": {},
          "execution_count": 9
        }
      ]
    }
  ]
}